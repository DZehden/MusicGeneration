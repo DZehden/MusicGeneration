{
 "cells": [
  {
   "cell_type": "code",
   "execution_count": 2,
   "metadata": {
    "pycharm": {
     "is_executing": false
    }
   },
   "outputs": [
    {
     "name": "stdout",
     "output_type": "stream",
     "text": [
      "No checkpoint loaded\n"
     ]
    }
   ],
   "source": [
    "import tensorflow as tf\n",
    "from src.gan2 import MusicGAN\n",
    "from src.music_dataset import MusicDataset\n",
    "from torch.utils.data.sampler import RandomSampler\n",
    "from torch.utils.data import DataLoader\n",
    "batch_size = 100\n",
    "data = MusicDataset('../MusicMats/')\n",
    "sampler = DataLoader(data, batch_size=batch_size, sampler=RandomSampler(data, True, batch_size))\n",
    "gan = MusicGAN('./src/training_checkpoints', './output/', batch_size)"
   ]
  },
  {
   "cell_type": "code",
   "execution_count": 3,
   "metadata": {
    "pycharm": {
     "is_executing": false,
     "metadata": false,
     "name": "#%%\n"
    }
   },
   "outputs": [
    {
     "name": "stdout",
     "output_type": "stream",
     "text": [
      "Training discrminator, generator\n",
      "Time for epoch 1 is 3.8578319549560547 sec\n",
      "Average real prediction: 0.505528450012207, Average fake prediction: 0.49698418378829956\n",
      "Training generator\n",
      "Time for epoch 2 is 2.5114099979400635 sec\n",
      "Average real prediction: 0.49981141090393066, Average fake prediction: 0.49598485231399536\n",
      "Training generator\n",
      "Time for epoch 3 is 2.510998010635376 sec\n",
      "Average real prediction: 0.493257075548172, Average fake prediction: 0.4961344003677368\n",
      "Training generator\n",
      "Time for epoch 4 is 2.5106520652770996 sec\n",
      "Average real prediction: 0.48775288462638855, Average fake prediction: 0.495674729347229\n",
      "Training generator\n",
      "Time for epoch 5 is 2.5040640830993652 sec\n",
      "Average real prediction: 0.5056206583976746, Average fake prediction: 0.4950445592403412\n",
      "Training generator\n",
      "Time for epoch 6 is 2.594413995742798 sec\n",
      "Average real prediction: 0.41863715648651123, Average fake prediction: 0.49625611305236816\n",
      "Training generator\n",
      "Time for epoch 7 is 2.549715042114258 sec\n",
      "Average real prediction: 0.4376700222492218, Average fake prediction: 0.4954899847507477\n",
      "Training generator\n",
      "Time for epoch 8 is 2.555999994277954 sec\n",
      "Average real prediction: 0.4514082372188568, Average fake prediction: 0.4967314898967743\n",
      "Training generator\n",
      "Time for epoch 9 is 2.4546749591827393 sec\n",
      "Average real prediction: 0.45556876063346863, Average fake prediction: 0.497386634349823\n",
      "Training generator\n",
      "Time for epoch 10 is 2.563812017440796 sec\n",
      "Average real prediction: 0.42037540674209595, Average fake prediction: 0.49729976058006287\n"
     ]
    }
   ],
   "source": [
    "gan.train(sampler, 10)"
   ]
  },
  {
   "cell_type": "code",
   "execution_count": 4,
   "metadata": {},
   "outputs": [
    {
     "name": "stdout",
     "output_type": "stream",
     "text": [
      "Training generator\n",
      "Time for epoch 11 is 2.554527997970581 sec\n",
      "Average real prediction: 0.47201085090637207, Average fake prediction: 0.49520331621170044\n",
      "Training generator\n",
      "Time for epoch 12 is 2.512295961380005 sec\n",
      "Average real prediction: 0.47582390904426575, Average fake prediction: 0.4955516457557678\n",
      "Training generator\n",
      "Time for epoch 13 is 2.381105899810791 sec\n",
      "Average real prediction: 0.4814189672470093, Average fake prediction: 0.49520397186279297\n",
      "Training generator\n",
      "Time for epoch 14 is 2.4681618213653564 sec\n",
      "Average real prediction: 0.44365987181663513, Average fake prediction: 0.49789959192276\n",
      "Training generator\n",
      "Time for epoch 15 is 2.389625072479248 sec\n",
      "Average real prediction: 0.49391135573387146, Average fake prediction: 0.49645957350730896\n",
      "Training generator\n",
      "Time for epoch 16 is 2.4936490058898926 sec\n",
      "Average real prediction: 0.5208200812339783, Average fake prediction: 0.4960140585899353\n",
      "Training generator\n",
      "Time for epoch 17 is 2.4939041137695312 sec\n",
      "Average real prediction: 0.443918913602829, Average fake prediction: 0.4986163377761841\n",
      "Training generator\n",
      "Time for epoch 18 is 2.4934680461883545 sec\n",
      "Average real prediction: 0.47565415501594543, Average fake prediction: 0.49739670753479004\n",
      "Training generator\n",
      "Time for epoch 19 is 2.384972095489502 sec\n",
      "Average real prediction: 0.4181453585624695, Average fake prediction: 0.4954715669155121\n",
      "Training generator\n",
      "Time for epoch 20 is 2.486020088195801 sec\n",
      "Average real prediction: 0.46142616868019104, Average fake prediction: 0.4943128824234009\n",
      "Training generator\n",
      "Time for epoch 21 is 2.441359758377075 sec\n",
      "Average real prediction: 0.5358597636222839, Average fake prediction: 0.49629664421081543\n",
      "Training generator\n",
      "Time for epoch 22 is 2.550651788711548 sec\n",
      "Average real prediction: 0.4396149814128876, Average fake prediction: 0.49732986092567444\n",
      "Training generator\n",
      "Time for epoch 23 is 2.5194320678710938 sec\n",
      "Average real prediction: 0.5284518599510193, Average fake prediction: 0.49661967158317566\n",
      "Training generator\n",
      "Time for epoch 24 is 2.5963082313537598 sec\n",
      "Average real prediction: 0.4719986915588379, Average fake prediction: 0.4961835443973541\n",
      "Training generator\n",
      "Time for epoch 25 is 2.4471840858459473 sec\n",
      "Average real prediction: 0.43258869647979736, Average fake prediction: 0.4982801079750061\n",
      "Training generator\n",
      "Time for epoch 26 is 2.504126787185669 sec\n",
      "Average real prediction: 0.5201534032821655, Average fake prediction: 0.49612662196159363\n",
      "Training generator\n",
      "Time for epoch 27 is 2.4159669876098633 sec\n",
      "Average real prediction: 0.4829542338848114, Average fake prediction: 0.49574053287506104\n",
      "Training generator\n",
      "Time for epoch 28 is 2.424168109893799 sec\n",
      "Average real prediction: 0.5108803510665894, Average fake prediction: 0.495009183883667\n",
      "Training generator\n",
      "Time for epoch 29 is 2.3998708724975586 sec\n",
      "Average real prediction: 0.5390540957450867, Average fake prediction: 0.4957895576953888\n",
      "Training generator\n",
      "Time for epoch 30 is 2.3775150775909424 sec\n",
      "Average real prediction: 0.44913434982299805, Average fake prediction: 0.4972129166126251\n",
      "Training generator\n",
      "Time for epoch 31 is 2.408208131790161 sec\n",
      "Average real prediction: 0.42885446548461914, Average fake prediction: 0.4974517822265625\n",
      "Training generator\n",
      "Time for epoch 32 is 2.5069708824157715 sec\n",
      "Average real prediction: 0.5103816390037537, Average fake prediction: 0.495834082365036\n",
      "Training generator\n",
      "Time for epoch 33 is 2.5194499492645264 sec\n",
      "Average real prediction: 0.5060912370681763, Average fake prediction: 0.4963381886482239\n",
      "Training generator\n",
      "Time for epoch 34 is 2.523061990737915 sec\n",
      "Average real prediction: 0.4676557183265686, Average fake prediction: 0.4959257245063782\n",
      "Training generator\n",
      "Time for epoch 35 is 2.4688918590545654 sec\n",
      "Average real prediction: 0.4811194837093353, Average fake prediction: 0.4944632053375244\n",
      "Training generator\n",
      "Time for epoch 36 is 2.4830031394958496 sec\n",
      "Average real prediction: 0.46821868419647217, Average fake prediction: 0.49487900733947754\n",
      "Training generator\n",
      "Time for epoch 37 is 2.4652862548828125 sec\n",
      "Average real prediction: 0.49699679017066956, Average fake prediction: 0.497153103351593\n",
      "Training generator\n",
      "Time for epoch 38 is 2.3736889362335205 sec\n",
      "Average real prediction: 0.4207267463207245, Average fake prediction: 0.49560442566871643\n",
      "Training generator\n",
      "Time for epoch 39 is 2.4231040477752686 sec\n",
      "Average real prediction: 0.5060318112373352, Average fake prediction: 0.49760720133781433\n",
      "Training generator\n",
      "Time for epoch 40 is 2.4201860427856445 sec\n",
      "Average real prediction: 0.4754501283168793, Average fake prediction: 0.4972182512283325\n",
      "Training generator\n",
      "Time for epoch 41 is 2.412811040878296 sec\n",
      "Average real prediction: 0.5606604218482971, Average fake prediction: 0.49822261929512024\n",
      "Training generator\n",
      "Time for epoch 42 is 2.447391986846924 sec\n",
      "Average real prediction: 0.4584938883781433, Average fake prediction: 0.4971855878829956\n",
      "Training generator\n",
      "Time for epoch 43 is 2.3702051639556885 sec\n",
      "Average real prediction: 0.4157336950302124, Average fake prediction: 0.4981141984462738\n",
      "Training generator\n",
      "Time for epoch 44 is 2.449434280395508 sec\n",
      "Average real prediction: 0.4774662256240845, Average fake prediction: 0.49779316782951355\n",
      "Training generator\n",
      "Time for epoch 45 is 2.4451942443847656 sec\n",
      "Average real prediction: 0.4774651527404785, Average fake prediction: 0.4972273111343384\n",
      "Training generator\n",
      "Time for epoch 46 is 2.4035329818725586 sec\n",
      "Average real prediction: 0.45353350043296814, Average fake prediction: 0.4948272705078125\n",
      "Training generator\n",
      "Time for epoch 47 is 2.540069103240967 sec\n",
      "Average real prediction: 0.5199467539787292, Average fake prediction: 0.4965425729751587\n",
      "Training generator\n",
      "Time for epoch 48 is 2.510557174682617 sec\n",
      "Average real prediction: 0.4157108962535858, Average fake prediction: 0.49897441267967224\n",
      "Training generator\n",
      "Time for epoch 49 is 2.5874879360198975 sec\n",
      "Average real prediction: 0.4725708067417145, Average fake prediction: 0.4980471730232239\n",
      "Training generator\n",
      "Time for epoch 50 is 2.499924898147583 sec\n",
      "Average real prediction: 0.4737466275691986, Average fake prediction: 0.4959630072116852\n",
      "Training generator\n",
      "Time for epoch 51 is 2.562260866165161 sec\n",
      "Average real prediction: 0.4845169186592102, Average fake prediction: 0.4967655837535858\n",
      "Training generator\n",
      "Time for epoch 52 is 2.555986166000366 sec\n",
      "Average real prediction: 0.4369624853134155, Average fake prediction: 0.49802032113075256\n",
      "Training generator\n",
      "Time for epoch 53 is 2.603785991668701 sec\n",
      "Average real prediction: 0.44215449690818787, Average fake prediction: 0.4972175359725952\n",
      "Training generator\n",
      "Time for epoch 54 is 2.692020893096924 sec\n",
      "Average real prediction: 0.47130653262138367, Average fake prediction: 0.497150719165802\n",
      "Training generator\n",
      "Time for epoch 55 is 2.995382070541382 sec\n",
      "Average real prediction: 0.4630929231643677, Average fake prediction: 0.4974837601184845\n",
      "Training generator\n",
      "Time for epoch 56 is 2.4964842796325684 sec\n",
      "Average real prediction: 0.42999619245529175, Average fake prediction: 0.4977908432483673\n",
      "Training generator\n",
      "Time for epoch 57 is 2.4640676975250244 sec\n",
      "Average real prediction: 0.44429293274879456, Average fake prediction: 0.49579373002052307\n",
      "Training generator\n",
      "Time for epoch 58 is 2.4619977474212646 sec\n",
      "Average real prediction: 0.4275707006454468, Average fake prediction: 0.4951842427253723\n",
      "Training generator\n",
      "Time for epoch 59 is 2.4997951984405518 sec\n",
      "Average real prediction: 0.46048563718795776, Average fake prediction: 0.49421730637550354\n",
      "Training generator\n",
      "Time for epoch 60 is 2.518080949783325 sec\n",
      "Average real prediction: 0.4545600116252899, Average fake prediction: 0.4964004456996918\n",
      "Training generator\n",
      "Time for epoch 61 is 2.5491628646850586 sec\n",
      "Average real prediction: 0.47230079770088196, Average fake prediction: 0.497354120016098\n",
      "Training generator\n",
      "Time for epoch 62 is 2.461709976196289 sec\n",
      "Average real prediction: 0.45365750789642334, Average fake prediction: 0.4953065514564514\n",
      "Training generator\n",
      "Time for epoch 63 is 2.4579272270202637 sec\n",
      "Average real prediction: 0.4934711456298828, Average fake prediction: 0.49658694863319397\n",
      "Training generator\n",
      "Time for epoch 64 is 2.522797107696533 sec\n",
      "Average real prediction: 0.5039704442024231, Average fake prediction: 0.4976646304130554\n",
      "Training generator\n"
     ]
    },
    {
     "name": "stdout",
     "output_type": "stream",
     "text": [
      "Time for epoch 65 is 2.4796316623687744 sec\n",
      "Average real prediction: 0.5041734576225281, Average fake prediction: 0.4971965551376343\n",
      "Training generator\n",
      "Time for epoch 66 is 2.477200746536255 sec\n",
      "Average real prediction: 0.4236048460006714, Average fake prediction: 0.49882790446281433\n",
      "Training generator\n",
      "Time for epoch 67 is 2.5304031372070312 sec\n",
      "Average real prediction: 0.4870617389678955, Average fake prediction: 0.4964011311531067\n",
      "Training generator\n",
      "Time for epoch 68 is 2.4237887859344482 sec\n",
      "Average real prediction: 0.4695546627044678, Average fake prediction: 0.4947656989097595\n",
      "Training generator\n",
      "Time for epoch 69 is 2.4464190006256104 sec\n",
      "Average real prediction: 0.4640733301639557, Average fake prediction: 0.49809154868125916\n",
      "Training generator\n",
      "Time for epoch 70 is 2.4963951110839844 sec\n",
      "Average real prediction: 0.45324933528900146, Average fake prediction: 0.4978295564651489\n",
      "Training generator\n",
      "Time for epoch 71 is 2.446652889251709 sec\n",
      "Average real prediction: 0.4635452628135681, Average fake prediction: 0.4979191720485687\n",
      "Training generator\n",
      "Time for epoch 72 is 2.4654009342193604 sec\n",
      "Average real prediction: 0.46740856766700745, Average fake prediction: 0.4970361590385437\n",
      "Training generator\n",
      "Time for epoch 73 is 2.4573609828948975 sec\n",
      "Average real prediction: 0.4492216110229492, Average fake prediction: 0.4960014820098877\n",
      "Training generator\n",
      "Time for epoch 74 is 2.432100772857666 sec\n",
      "Average real prediction: 0.43703168630599976, Average fake prediction: 0.498772531747818\n",
      "Training generator\n",
      "Time for epoch 75 is 2.597377061843872 sec\n",
      "Average real prediction: 0.4726039171218872, Average fake prediction: 0.49518147110939026\n",
      "Training generator\n",
      "Time for epoch 76 is 2.621234893798828 sec\n",
      "Average real prediction: 0.48064836859703064, Average fake prediction: 0.4984371066093445\n",
      "Training generator\n",
      "Time for epoch 77 is 2.4937660694122314 sec\n",
      "Average real prediction: 0.5053218603134155, Average fake prediction: 0.4998972713947296\n",
      "Training generator\n",
      "Time for epoch 78 is 2.402625799179077 sec\n",
      "Average real prediction: 0.45242249965667725, Average fake prediction: 0.49681732058525085\n",
      "Training generator\n",
      "Time for epoch 79 is 2.4402008056640625 sec\n",
      "Average real prediction: 0.4297269880771637, Average fake prediction: 0.49552246928215027\n",
      "Training generator\n",
      "Time for epoch 80 is 2.411004066467285 sec\n",
      "Average real prediction: 0.48778286576271057, Average fake prediction: 0.4984435737133026\n",
      "Training generator\n",
      "Time for epoch 81 is 3.2373361587524414 sec\n",
      "Average real prediction: 0.482035756111145, Average fake prediction: 0.4977981448173523\n",
      "Training generator\n",
      "Time for epoch 82 is 4.580940008163452 sec\n",
      "Average real prediction: 0.4246671497821808, Average fake prediction: 0.49610018730163574\n",
      "Training generator\n",
      "Time for epoch 83 is 3.6006600856781006 sec\n",
      "Average real prediction: 0.4912624955177307, Average fake prediction: 0.49810925126075745\n",
      "Training generator\n",
      "Time for epoch 84 is 3.198525905609131 sec\n",
      "Average real prediction: 0.5286241173744202, Average fake prediction: 0.4985615015029907\n",
      "Training generator\n",
      "Time for epoch 85 is 3.0208230018615723 sec\n",
      "Average real prediction: 0.4946567118167877, Average fake prediction: 0.4963896870613098\n",
      "Training generator\n",
      "Time for epoch 86 is 2.435749053955078 sec\n",
      "Average real prediction: 0.4711339473724365, Average fake prediction: 0.4942695200443268\n",
      "Training generator\n",
      "Time for epoch 87 is 2.3754940032958984 sec\n",
      "Average real prediction: 0.443340539932251, Average fake prediction: 0.49799713492393494\n",
      "Training generator\n",
      "Time for epoch 88 is 2.4937989711761475 sec\n",
      "Average real prediction: 0.4458696246147156, Average fake prediction: 0.49762439727783203\n",
      "Training generator\n",
      "Time for epoch 89 is 2.665513277053833 sec\n",
      "Average real prediction: 0.4648433029651642, Average fake prediction: 0.49594002962112427\n",
      "Training generator\n",
      "Time for epoch 90 is 2.49723482131958 sec\n",
      "Average real prediction: 0.5490567088127136, Average fake prediction: 0.4966140687465668\n",
      "Training generator\n",
      "Time for epoch 91 is 2.4790327548980713 sec\n",
      "Average real prediction: 0.4845670759677887, Average fake prediction: 0.4963042140007019\n",
      "Training generator\n",
      "Time for epoch 92 is 2.5066401958465576 sec\n",
      "Average real prediction: 0.5062806010246277, Average fake prediction: 0.496361643075943\n",
      "Training generator\n",
      "Time for epoch 93 is 2.469205141067505 sec\n",
      "Average real prediction: 0.5415304899215698, Average fake prediction: 0.49784862995147705\n",
      "Training generator\n",
      "Time for epoch 94 is 2.479944944381714 sec\n",
      "Average real prediction: 0.4982838034629822, Average fake prediction: 0.49597373604774475\n",
      "Training generator\n",
      "Time for epoch 95 is 2.5354859828948975 sec\n",
      "Average real prediction: 0.46377503871917725, Average fake prediction: 0.49859291315078735\n",
      "Training generator\n",
      "Time for epoch 96 is 2.497818946838379 sec\n",
      "Average real prediction: 0.49798351526260376, Average fake prediction: 0.496624231338501\n",
      "Training generator\n",
      "Time for epoch 97 is 2.4521989822387695 sec\n",
      "Average real prediction: 0.5243046879768372, Average fake prediction: 0.4977186322212219\n",
      "Training generator\n",
      "Time for epoch 98 is 2.4410481452941895 sec\n",
      "Average real prediction: 0.5287416577339172, Average fake prediction: 0.4960622787475586\n",
      "Training generator\n",
      "Time for epoch 99 is 2.6308720111846924 sec\n",
      "Average real prediction: 0.4290821850299835, Average fake prediction: 0.4942680299282074\n",
      "Training generator\n",
      "Time for epoch 100 is 2.4823098182678223 sec\n",
      "Average real prediction: 0.5033044815063477, Average fake prediction: 0.49827367067337036\n"
     ]
    }
   ],
   "source": [
    "gan.train(sampler,90)\n"
   ]
  },
  {
   "cell_type": "code",
   "execution_count": 6,
   "metadata": {
    "pycharm": {
     "metadata": false,
     "name": "#%%\n"
    }
   },
   "outputs": [
    {
     "name": "stdout",
     "output_type": "stream",
     "text": [
      "(384, 128)\n"
     ]
    },
    {
     "data": {
      "text/plain": [
       "array([[0.50058913]], dtype=float32)"
      ]
     },
     "execution_count": 6,
     "metadata": {},
     "output_type": "execute_result"
    }
   ],
   "source": [
    "gan.generate_npz('./output/4.npz')\n",
    "gan.predict_from_npz('./output/4.npz').numpy()"
   ]
  },
  {
   "cell_type": "code",
   "execution_count": 1,
   "metadata": {},
   "outputs": [
    {
     "ename": "NameError",
     "evalue": "name 'gan' is not defined",
     "output_type": "error",
     "traceback": [
      "\u001b[0;31m---------------------------------------------------------------------------\u001b[0m",
      "\u001b[0;31mNameError\u001b[0m                                 Traceback (most recent call last)",
      "\u001b[0;32m<ipython-input-1-4c06894cc7ce>\u001b[0m in \u001b[0;36m<module>\u001b[0;34m\u001b[0m\n\u001b[1;32m      3\u001b[0m \u001b[0msample\u001b[0m \u001b[0;34m=\u001b[0m \u001b[0mpypianoroll\u001b[0m\u001b[0;34m.\u001b[0m\u001b[0mload\u001b[0m\u001b[0;34m(\u001b[0m\u001b[0;34m'../MusicMats/alb_se1_format0_sample_3.npz'\u001b[0m\u001b[0;34m)\u001b[0m\u001b[0;34m\u001b[0m\u001b[0m\n\u001b[1;32m      4\u001b[0m \u001b[0mndarray_to_midi\u001b[0m\u001b[0;34m(\u001b[0m\u001b[0msample\u001b[0m\u001b[0;34m.\u001b[0m\u001b[0mtracks\u001b[0m\u001b[0;34m[\u001b[0m\u001b[0;36m0\u001b[0m\u001b[0;34m]\u001b[0m\u001b[0;34m.\u001b[0m\u001b[0mpianoroll\u001b[0m\u001b[0;34m,\u001b[0m \u001b[0;34m'./output/sample_1.mid'\u001b[0m\u001b[0;34m)\u001b[0m\u001b[0;34m\u001b[0m\u001b[0m\n\u001b[0;32m----> 5\u001b[0;31m \u001b[0mgan\u001b[0m\u001b[0;34m.\u001b[0m\u001b[0mpredict_from_midi\u001b[0m\u001b[0;34m(\u001b[0m\u001b[0;34m'./output/sample_1.mid'\u001b[0m\u001b[0;34m)\u001b[0m\u001b[0;34m.\u001b[0m\u001b[0mnumpy\u001b[0m\u001b[0;34m(\u001b[0m\u001b[0;34m)\u001b[0m\u001b[0;34m[\u001b[0m\u001b[0;36m0\u001b[0m\u001b[0;34m,\u001b[0m \u001b[0;36m0\u001b[0m\u001b[0;34m]\u001b[0m\u001b[0;34m\u001b[0m\u001b[0m\n\u001b[0m",
      "\u001b[0;31mNameError\u001b[0m: name 'gan' is not defined"
     ]
    }
   ],
   "source": [
    "import pypianoroll\n",
    "from src.midi_utils import ndarray_to_midi\n",
    "sample = pypianoroll.load('../MusicMats/alb_se1_format0_sample_3.npz')\n",
    "ndarray_to_midi(sample.tracks[0].pianoroll, './output/sample_1.mid')\n",
    "gan.predict_from_midi('./output/sample_1.mid').numpy()[0, 0]"
   ]
  },
  {
   "cell_type": "code",
   "execution_count": null,
   "metadata": {},
   "outputs": [],
   "source": [
    "import pypianoroll\n",
    "roll = pypianoroll.load('./output/4.npz')\n",
    "pypianoroll.plot(roll)"
   ]
  },
  {
   "cell_type": "code",
   "execution_count": 7,
   "metadata": {},
   "outputs": [
    {
     "data": {
      "text/plain": [
       "(<Figure size 432x288 with 1 Axes>,\n",
       " [<matplotlib.axes._subplots.AxesSubplot at 0x143e2a4e0>])"
      ]
     },
     "execution_count": 7,
     "metadata": {},
     "output_type": "execute_result"
    },
    {
     "data": {
      "image/png": "[encoded data removed]",
      "text/plain": [
       "<Figure size 432x288 with 1 Axes>"
      ]
     },
     "metadata": {
      "needs_background": "light"
     },
     "output_type": "display_data"
    }
   ],
   "source": [
    "sample = pypianoroll.load('../MusicMats/alb_se1_format0_sample_3.npz')\n",
    "pypianoroll.plot(sample)"
   ]
  },
  {
   "cell_type": "code",
   "execution_count": 10,
   "metadata": {},
   "outputs": [
    {
     "data": {
      "text/plain": [
       "46"
      ]
     },
     "execution_count": 10,
     "metadata": {},
     "output_type": "execute_result"
    }
   ],
   "source": [
    "sample.tracks[0].pianoroll.max()"
   ]
  },
  {
   "cell_type": "code",
   "execution_count": 15,
   "metadata": {},
   "outputs": [
    {
     "data": {
      "text/plain": [
       "0.03690301"
      ]
     },
     "execution_count": 15,
     "metadata": {},
     "output_type": "execute_result"
    }
   ],
   "source": [
    "import pypianoroll\n",
    "roll = pypianoroll.load('./output/4.npz')\n",
    "roll.tracks[0].pianoroll.max()"
   ]
  },
  {
   "cell_type": "code",
   "execution_count": 9,
   "metadata": {},
   "outputs": [
    {
     "data": {
      "text/plain": [
       "127"
      ]
     },
     "execution_count": 9,
     "metadata": {},
     "output_type": "execute_result"
    },
    {
     "data": {
      "text/plain": [
       "127"
      ]
     },
     "execution_count": 9,
     "metadata": {},
     "output_type": "execute_result"
    }
   ],
   "source": [
    "sample = pypianoroll.load('../MusicMats/alb_se1_format0_sample_3.npz')\n",
    "sample.tracks[0].pianoroll.max()"
   ]
  },
  {
   "cell_type": "code",
   "execution_count": 10,
   "metadata": {},
   "outputs": [
    {
     "data": {
      "text/plain": [
       "(<Figure size 432x288 with 1 Axes>,\n",
       " [<matplotlib.axes._subplots.AxesSubplot at 0x140e61550>])"
      ]
     },
     "execution_count": 10,
     "metadata": {},
     "output_type": "execute_result"
    },
    {
     "data": {
      "image/png": "[encoded data removed]",
      "text/plain": [
       "<Figure size 432x288 with 1 Axes>"
      ]
     },
     "metadata": {
      "needs_background": "light"
     },
     "output_type": "display_data"
    }
   ],
   "source": [
    "%matplotlib inline\n",
    "import pypianoroll\n",
    "roll = pypianoroll.parse('vm_out/07_32_epoch_250.mid')\n",
    "roll.tracks[0].pianoroll[roll.tracks[0].pianoroll > 0] = 80\n",
    "pypianoroll.plot(roll)\n"
   ]
  },
  {
   "cell_type": "code",
   "execution_count": 17,
   "metadata": {},
   "outputs": [],
   "source": [
    "import src.midi_utils\n",
    "src.midi_utils.npz_to_midi('./output/4.npz', 'vm_out/')"
   ]
  },
  {
   "cell_type": "code",
   "execution_count": 3,
   "metadata": {},
   "outputs": [
    {
     "name": "stdout",
     "output_type": "stream",
     "text": [
      "(384, 128)\n"
     ]
    }
   ],
   "source": [
    "gan.generate_midi('./vm_out/4.mid')"
   ]
  },
  {
   "cell_type": "code",
   "execution_count": 29,
   "metadata": {},
   "outputs": [],
   "source": [
    "import tensorflow as tf\n",
    "noise = tf.random.normal([1, 100])\n",
    "gen = gan.generator(noise)\n"
   ]
  },
  {
   "cell_type": "code",
   "execution_count": null,
   "metadata": {},
   "outputs": [],
   "source": []
  },
  {
   "cell_type": "code",
   "execution_count": 30,
   "metadata": {},
   "outputs": [],
   "source": [
    "import numpy as np\n",
    "gen = np.reshape(gen , (384, 128))"
   ]
  },
  {
   "cell_type": "code",
   "execution_count": 33,
   "metadata": {},
   "outputs": [
    {
     "name": "stdout",
     "output_type": "stream",
     "text": [
      "0.09207781\n",
      "0.0\n"
     ]
    }
   ],
   "source": [
    "print(gen.max())\n",
    "print(gen.min())"
   ]
  },
  {
   "cell_type": "code",
   "execution_count": 34,
   "metadata": {},
   "outputs": [],
   "source": [
    "gen = (gen) * 63.5"
   ]
  },
  {
   "cell_type": "code",
   "execution_count": 35,
   "metadata": {},
   "outputs": [
    {
     "data": {
      "text/plain": [
       "5.8469405"
      ]
     },
     "execution_count": 35,
     "metadata": {},
     "output_type": "execute_result"
    }
   ],
   "source": [
    "gen.max()"
   ]
  },
  {
   "cell_type": "code",
   "execution_count": 28,
   "metadata": {},
   "outputs": [
    {
     "data": {
      "text/plain": [
       "63.5"
      ]
     },
     "execution_count": 28,
     "metadata": {},
     "output_type": "execute_result"
    }
   ],
   "source": [
    "gen.min()"
   ]
  },
  {
   "cell_type": "code",
   "execution_count": 23,
   "metadata": {},
   "outputs": [],
   "source": [
    "from src.midi_utils import ndarray_to_midi\n",
    "ndarray_to_midi(gen.astype('uint8'), './rob_out3/scaled1.mid')"
   ]
  },
  {
   "cell_type": "code",
   "execution_count": 26,
   "metadata": {},
   "outputs": [
    {
     "data": {
      "text/plain": [
       "(<Figure size 432x288 with 1 Axes>,\n",
       " [<matplotlib.axes._subplots.AxesSubplot at 0x14767ae48>])"
      ]
     },
     "execution_count": 26,
     "metadata": {},
     "output_type": "execute_result"
    },
    {
     "data": {
      "image/png": "[encoded data removed]",
      "text/plain": [
       "<Figure size 432x288 with 1 Axes>"
      ]
     },
     "metadata": {
      "needs_background": "light"
     },
     "output_type": "display_data"
    }
   ],
   "source": [
    "import pypianoroll\n",
    "roll = pypianoroll.parse('./output/scaled1.mid')\n",
    "pypianoroll.plot(roll)"
   ]
  },
  {
   "cell_type": "code",
   "execution_count": 26,
   "metadata": {},
   "outputs": [
    {
     "name": "stdout",
     "output_type": "stream",
     "text": [
      "0\n",
      "63\n",
      "[[63 63 63 ... 63 63 63]\n",
      " [63 63 63 ... 63 63 63]\n",
      " [63 63 63 ... 63 63 63]\n",
      " ...\n",
      " [63 63 63 ... 63 63 63]\n",
      " [63 63 63 ... 63 63 63]\n",
      " [63 63 63 ... 63 63 63]]\n"
     ]
    },
    {
     "data": {
      "image/png": "[encoded data removed]",
      "text/plain": [
       "<Figure size 432x288 with 1 Axes>"
      ]
     },
     "metadata": {
      "needs_background": "light"
     },
     "output_type": "display_data"
    }
   ],
   "source": [
    "import pypianoroll\n",
    "roll = pypianoroll.parse('rob_out3/2019_05_19_21_29_epoch_50.mid')\n",
    "pypianoroll.plot(roll)\n",
    "mat = roll.tracks[0].pianoroll\n",
    "print(len(mat[mat < 0]))\n",
    "print(mat.max())\n",
    "print(mat)"
   ]
  },
  {
   "cell_type": "code",
   "execution_count": 9,
   "metadata": {},
   "outputs": [],
   "source": []
  },
  {
   "cell_type": "code",
   "execution_count": null,
   "metadata": {},
   "outputs": [],
   "source": []
  }
 ],
 "metadata": {
  "kernelspec": {
   "display_name": "Python 3",
   "language": "python",
   "name": "python3"
  },
  "language_info": {
   "codemirror_mode": {
    "name": "ipython",
    "version": 3
   },
   "file_extension": ".py",
   "mimetype": "text/x-python",
   "name": "python",
   "nbconvert_exporter": "python",
   "pygments_lexer": "ipython3",
   "version": "3.6.1"
  }
 },
 "nbformat": 4,
 "nbformat_minor": 1
}
