{
 "cells": [
  {
   "cell_type": "code",
   "execution_count": 1,
   "metadata": {
    "pycharm": {
     "is_executing": false
    }
   },
   "outputs": [
    {
     "name": "stdout",
     "output_type": "stream",
     "text": [
      "5\n",
      "(None, 384, 128, 1)\n",
      "No checkpoint loaded\n"
     ]
    }
   ],
   "source": [
    "import tensorflow as tf\n",
    "from src.gan2 import MusicGAN\n",
    "from src.music_dataset import MusicDataset\n",
    "from torch.utils.data.sampler import RandomSampler\n",
    "data = MusicDataset('../MusicMats/')\n",
    "sampler = RandomSampler(data, True, 100)\n",
    "gan = MusicGAN('./src/training_checkpoints', './output/')"
   ]
  },
  {
   "cell_type": "code",
   "execution_count": 7,
   "metadata": {
    "pycharm": {
     "is_executing": false,
     "metadata": false,
     "name": "#%%\n"
    }
   },
   "outputs": [
    {
     "name": "stdout",
     "output_type": "stream",
     "text": [
      "Time for epoch 1 is 13.05650520324707 sec\n",
      "Time for epoch 2 is 12.988075017929077 sec\n",
      "Time for epoch 3 is 12.906020879745483 sec\n",
      "Time for epoch 4 is 13.455067873001099 sec\n",
      "Time for epoch 5 is 14.949972152709961 sec\n",
      "Time for epoch 6 is 13.180454969406128 sec\n",
      "Time for epoch 7 is 15.18483591079712 sec\n",
      "Time for epoch 8 is 13.059009075164795 sec\n",
      "Time for epoch 9 is 12.913438081741333 sec\n",
      "Time for epoch 10 is 13.014915704727173 sec\n"
     ]
    }
   ],
   "source": [
    "gan.train(sampler, 10)"
   ]
  },
  {
   "cell_type": "code",
   "execution_count": 9,
   "metadata": {
    "pycharm": {
     "metadata": false,
     "name": "#%%\n"
    }
   },
   "outputs": [
    {
     "data": {
      "text/plain": [
       "6.1900187e-13"
      ]
     },
     "execution_count": 9,
     "metadata": {},
     "output_type": "execute_result"
    }
   ],
   "source": [
    "gan.predict_from_midi('./output/3.mid').numpy()[0, 0]"
   ]
  },
  {
   "cell_type": "code",
   "execution_count": 10,
   "metadata": {},
   "outputs": [
    {
     "data": {
      "text/plain": [
       "2.0402513e-24"
      ]
     },
     "execution_count": 10,
     "metadata": {},
     "output_type": "execute_result"
    }
   ],
   "source": [
    "import pypianoroll\n",
    "from src.midi_utils import ndarray_to_midi\n",
    "sample = pypianoroll.load('../MusicMats/alb_se1_format0_sample_2.npz')\n",
    "ndarray_to_midi(sample.tracks[0].pianoroll, './output/sample_1.mid')\n",
    "gan.predict_from_midi('./output/sample_1.mid').numpy()[0, 0]"
   ]
  },
  {
   "cell_type": "code",
   "execution_count": 3,
   "metadata": {},
   "outputs": [
    {
     "ename": "ValueError",
     "evalue": "math domain error",
     "output_type": "error",
     "traceback": [
      "\u001b[0;31m---------------------------------------------------------------------------\u001b[0m",
      "\u001b[0;31mValueError\u001b[0m                                Traceback (most recent call last)",
      "\u001b[0;32m<ipython-input-3-dc603dd932ce>\u001b[0m in \u001b[0;36m<module>\u001b[0;34m\u001b[0m\n\u001b[1;32m      1\u001b[0m \u001b[0;32mimport\u001b[0m \u001b[0mmath\u001b[0m\u001b[0;34m\u001b[0m\u001b[0m\n\u001b[0;32m----> 2\u001b[0;31m \u001b[0mmath\u001b[0m\u001b[0;34m.\u001b[0m\u001b[0mlog\u001b[0m\u001b[0;34m(\u001b[0m\u001b[0;34m-\u001b[0m\u001b[0;36m15.773985\u001b[0m\u001b[0;34m)\u001b[0m\u001b[0;34m\u001b[0m\u001b[0m\n\u001b[0m",
      "\u001b[0;31mValueError\u001b[0m: math domain error"
     ]
    }
   ],
   "source": [
    "import math\n",
    "math.log(-15.773985)"
   ]
  },
  {
   "cell_type": "code",
   "execution_count": 7,
   "metadata": {},
   "outputs": [
    {
     "name": "stdout",
     "output_type": "stream",
     "text": [
      "Time for epoch 1 is 32.645907163619995 sec\n",
      "Time for epoch 2 is 15.729461193084717 sec\n",
      "Time for epoch 3 is 34.68094182014465 sec\n",
      "Time for epoch 4 is 14.988602876663208 sec\n",
      "Time for epoch 5 is 35.40996503829956 sec\n"
     ]
    }
   ],
   "source": [
    "gan.train(data, 5)"
   ]
  },
  {
   "cell_type": "code",
   "execution_count": null,
   "metadata": {},
   "outputs": [],
   "source": []
  }
 ],
 "metadata": {
  "kernelspec": {
   "display_name": "Python 3",
   "language": "python",
   "name": "python3"
  },
  "language_info": {
   "codemirror_mode": {
    "name": "ipython",
    "version": 3
   },
   "file_extension": ".py",
   "mimetype": "text/x-python",
   "name": "python",
   "nbconvert_exporter": "python",
   "pygments_lexer": "ipython3",
   "version": "3.6.1"
  }
 },
 "nbformat": 4,
 "nbformat_minor": 1
}
